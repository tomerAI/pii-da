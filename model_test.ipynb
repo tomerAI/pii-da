{
  "cells": [
    {
      "cell_type": "markdown",
      "metadata": {
        "colab_type": "text",
        "id": "view-in-github"
      },
      "source": [
        "<a href=\"https://colab.research.google.com/github/tomerAI/pii-da/blob/main/model_test.ipynb\" target=\"_parent\"><img src=\"https://colab.research.google.com/assets/colab-badge.svg\" alt=\"Open In Colab\"/></a>"
      ]
    },
    {
      "cell_type": "markdown",
      "metadata": {
        "id": "x52gvmkxquuq"
      },
      "source": [
        "# Setup"
      ]
    },
    {
      "cell_type": "code",
      "execution_count": 1,
      "metadata": {
        "colab": {
          "base_uri": "https://localhost:8080/"
        },
        "id": "sSzrHPmiqo14",
        "outputId": "cdf3e667-7c68-4bb8-c02a-ce6fa09ec795"
      },
      "outputs": [
        {
          "name": "stdout",
          "output_type": "stream",
          "text": [
            "Requirement already satisfied: transformers in c:\\business\\pii-da\\.venv\\lib\\site-packages (4.47.1)\n",
            "Requirement already satisfied: filelock in c:\\business\\pii-da\\.venv\\lib\\site-packages (from transformers) (3.16.1)\n",
            "Requirement already satisfied: huggingface-hub<1.0,>=0.24.0 in c:\\business\\pii-da\\.venv\\lib\\site-packages (from transformers) (0.27.1)\n",
            "Requirement already satisfied: numpy>=1.17 in c:\\business\\pii-da\\.venv\\lib\\site-packages (from transformers) (2.2.1)\n",
            "Requirement already satisfied: packaging>=20.0 in c:\\business\\pii-da\\.venv\\lib\\site-packages (from transformers) (24.2)\n",
            "Requirement already satisfied: pyyaml>=5.1 in c:\\business\\pii-da\\.venv\\lib\\site-packages (from transformers) (6.0.2)\n",
            "Requirement already satisfied: regex!=2019.12.17 in c:\\business\\pii-da\\.venv\\lib\\site-packages (from transformers) (2024.11.6)\n",
            "Requirement already satisfied: requests in c:\\business\\pii-da\\.venv\\lib\\site-packages (from transformers) (2.32.3)\n",
            "Requirement already satisfied: tokenizers<0.22,>=0.21 in c:\\business\\pii-da\\.venv\\lib\\site-packages (from transformers) (0.21.0)\n",
            "Requirement already satisfied: safetensors>=0.4.1 in c:\\business\\pii-da\\.venv\\lib\\site-packages (from transformers) (0.5.0)\n",
            "Requirement already satisfied: tqdm>=4.27 in c:\\business\\pii-da\\.venv\\lib\\site-packages (from transformers) (4.67.1)\n",
            "Requirement already satisfied: fsspec>=2023.5.0 in c:\\business\\pii-da\\.venv\\lib\\site-packages (from huggingface-hub<1.0,>=0.24.0->transformers) (2024.9.0)\n",
            "Requirement already satisfied: typing-extensions>=3.7.4.3 in c:\\business\\pii-da\\.venv\\lib\\site-packages (from huggingface-hub<1.0,>=0.24.0->transformers) (4.12.2)\n",
            "Requirement already satisfied: colorama in c:\\business\\pii-da\\.venv\\lib\\site-packages (from tqdm>=4.27->transformers) (0.4.6)\n",
            "Requirement already satisfied: charset-normalizer<4,>=2 in c:\\business\\pii-da\\.venv\\lib\\site-packages (from requests->transformers) (3.4.1)\n",
            "Requirement already satisfied: idna<4,>=2.5 in c:\\business\\pii-da\\.venv\\lib\\site-packages (from requests->transformers) (3.10)\n",
            "Requirement already satisfied: urllib3<3,>=1.21.1 in c:\\business\\pii-da\\.venv\\lib\\site-packages (from requests->transformers) (2.3.0)\n",
            "Requirement already satisfied: certifi>=2017.4.17 in c:\\business\\pii-da\\.venv\\lib\\site-packages (from requests->transformers) (2024.12.14)\n"
          ]
        },
        {
          "name": "stderr",
          "output_type": "stream",
          "text": [
            "\n",
            "[notice] A new release of pip is available: 24.0 -> 24.3.1\n",
            "[notice] To update, run: python.exe -m pip install --upgrade pip\n"
          ]
        }
      ],
      "source": [
        "!pip install transformers"
      ]
    },
    {
      "cell_type": "markdown",
      "metadata": {
        "id": "XLuAQxhaqxmL"
      },
      "source": [
        "# Test"
      ]
    },
    {
      "cell_type": "code",
      "execution_count": 2,
      "metadata": {
        "colab": {
          "base_uri": "https://localhost:8080/"
        },
        "id": "7JfB91CbmcnW",
        "outputId": "2188a38e-d002-4c3c-aceb-5ee4fed5ffb2"
      },
      "outputs": [
        {
          "data": {
            "application/vnd.jupyter.widget-view+json": {
              "model_id": "4801a61df55a4e61935ceb0a334b4239",
              "version_major": 2,
              "version_minor": 0
            },
            "text/plain": [
              "config.json:   0%|          | 0.00/548 [00:00<?, ?B/s]"
            ]
          },
          "metadata": {},
          "output_type": "display_data"
        },
        {
          "name": "stderr",
          "output_type": "stream",
          "text": [
            "c:\\Business\\pii-da\\.venv\\Lib\\site-packages\\huggingface_hub\\file_download.py:140: UserWarning: `huggingface_hub` cache-system uses symlinks by default to efficiently store duplicated files but your machine does not support them in C:\\Users\\thhjn\\.cache\\huggingface\\hub\\models--vesteinn--DanskBERT. Caching files will still work but in a degraded version that might require more space on your disk. This warning can be disabled by setting the `HF_HUB_DISABLE_SYMLINKS_WARNING` environment variable. For more details, see https://huggingface.co/docs/huggingface_hub/how-to-cache#limitations.\n",
            "To support symlinks on Windows, you either need to activate Developer Mode or to run Python as an administrator. In order to activate developer mode, see this article: https://docs.microsoft.com/en-us/windows/apps/get-started/enable-your-device-for-development\n",
            "  warnings.warn(message)\n"
          ]
        },
        {
          "data": {
            "application/vnd.jupyter.widget-view+json": {
              "model_id": "bac10e008fce4b8597507969affb8d66",
              "version_major": 2,
              "version_minor": 0
            },
            "text/plain": [
              "model.safetensors:   0%|          | 0.00/498M [00:00<?, ?B/s]"
            ]
          },
          "metadata": {},
          "output_type": "display_data"
        },
        {
          "data": {
            "text/plain": [
              "MaskedLMOutput(loss=None, logits=tensor([[[ 29.5241,  -4.4627,  20.8495,  ..., -10.5279,  -1.6881,   6.3065],\n",
              "         [ -5.8057,  -6.4357,   9.4632,  ..., -25.9117, -24.0697,  -5.3901],\n",
              "         [ -3.1453,  -5.1833,   2.8015,  ..., -19.0606, -14.4330,  -3.9657],\n",
              "         ...,\n",
              "         [ -9.6178,  -7.2426,   8.9145,  ..., -22.4965, -19.3130,  -3.6193],\n",
              "         [ -3.9680,  -5.1638,  10.4992,  ..., -13.3623, -11.7197,  -0.3996],\n",
              "         [ 12.0690,  -4.6873,  22.8975,  ...,  -7.7785,  -6.8487,   5.3945]]],\n",
              "       grad_fn=<ViewBackward0>), hidden_states=None, attentions=None)"
            ]
          },
          "execution_count": 2,
          "metadata": {},
          "output_type": "execute_result"
        }
      ],
      "source": [
        "from transformers import AutoModelForMaskedLM, AutoTokenizer\n",
        "\n",
        "tokenizer = AutoTokenizer.from_pretrained(\"vesteinn/DanskBERT\")\n",
        "model = AutoModelForMaskedLM.from_pretrained(\"vesteinn/DanskBERT\")\n",
        "\n",
        "text = \"Jack Sparrow er med i en film lavet af Disney\"\n",
        "\n",
        "input_ids = tokenizer(text, return_tensors=\"pt\")\n",
        "input_ids[\"input_ids\"].shape\n",
        "# truncate to 512 tokens\n",
        "input_ids = {k: v[:, :512] for k, v in input_ids.items()}\n",
        "\n",
        "input_ids[\"input_ids\"].shape\n",
        "\n",
        "outputs = model.forward(**input_ids)\n",
        "outputs"
      ]
    },
    {
      "cell_type": "code",
      "execution_count": 3,
      "metadata": {
        "colab": {
          "base_uri": "https://localhost:8080/"
        },
        "id": "ABDLetHPsz6V",
        "outputId": "95c77913-8d29-4387-d5c9-efed399b77f5"
      },
      "outputs": [
        {
          "data": {
            "text/plain": [
              "['<s>',\n",
              " '▁Jack',\n",
              " '▁Sparrow',\n",
              " '▁er',\n",
              " '▁med',\n",
              " '▁i',\n",
              " '▁en',\n",
              " '▁film',\n",
              " '▁lavet',\n",
              " '▁af',\n",
              " '▁Disney',\n",
              " '</s>']"
            ]
          },
          "execution_count": 3,
          "metadata": {},
          "output_type": "execute_result"
        }
      ],
      "source": [
        "tokens = tokenizer(text).tokens()\n",
        "tokens"
      ]
    },
    {
      "cell_type": "code",
      "execution_count": 8,
      "metadata": {
        "colab": {
          "base_uri": "https://localhost:8080/",
          "height": 35
        },
        "id": "EyOBMJ6Xvzb4",
        "outputId": "5b973850-b9ce-4e87-b44f-cb758e7d1b72"
      },
      "outputs": [
        {
          "data": {
            "application/vnd.google.colaboratory.intrinsic+json": {
              "type": "string"
            },
            "text/plain": [
              "'<s> Jack Sparrow er med i en film lavet af Disney</s>'"
            ]
          },
          "execution_count": 8,
          "metadata": {},
          "output_type": "execute_result"
        }
      ],
      "source": [
        "\"\".join(tokens).replace(u\"\\u2581\", \" \")"
      ]
    }
  ],
  "metadata": {
    "colab": {
      "authorship_tag": "ABX9TyOk4NwGzb9BUzyXoGASRWtC",
      "include_colab_link": true,
      "provenance": []
    },
    "kernelspec": {
      "display_name": "Python 3",
      "name": "python3"
    },
    "language_info": {
      "codemirror_mode": {
        "name": "ipython",
        "version": 3
      },
      "file_extension": ".py",
      "mimetype": "text/x-python",
      "name": "python",
      "nbconvert_exporter": "python",
      "pygments_lexer": "ipython3",
      "version": "3.11.9"
    }
  },
  "nbformat": 4,
  "nbformat_minor": 0
}
